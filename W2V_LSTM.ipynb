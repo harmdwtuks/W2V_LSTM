{
 "cells": [
  {
   "cell_type": "markdown",
   "metadata": {},
   "source": [
    "## Library Imports"
   ]
  },
  {
   "cell_type": "code",
   "execution_count": 1,
   "metadata": {},
   "outputs": [],
   "source": [
    "import pandas as pd\n",
    "import re, string\n",
    "import numpy as np"
   ]
  },
  {
   "cell_type": "markdown",
   "metadata": {},
   "source": [
    "## Data Import"
   ]
  },
  {
   "cell_type": "code",
   "execution_count": 2,
   "metadata": {},
   "outputs": [],
   "source": [
    "real = pd.read_json('FakeNews-Ham.json')\n",
    "fake = pd.read_json('FakeNews-Spam.json')"
   ]
  },
  {
   "cell_type": "markdown",
   "metadata": {},
   "source": [
    "## Inspect Data"
   ]
  },
  {
   "cell_type": "code",
   "execution_count": 3,
   "metadata": {},
   "outputs": [
    {
     "data": {
      "text/html": [
       "<div>\n",
       "<style scoped>\n",
       "    .dataframe tbody tr th:only-of-type {\n",
       "        vertical-align: middle;\n",
       "    }\n",
       "\n",
       "    .dataframe tbody tr th {\n",
       "        vertical-align: top;\n",
       "    }\n",
       "\n",
       "    .dataframe thead th {\n",
       "        text-align: right;\n",
       "    }\n",
       "</style>\n",
       "<table border=\"1\" class=\"dataframe\">\n",
       "  <thead>\n",
       "    <tr style=\"text-align: right;\">\n",
       "      <th></th>\n",
       "      <th>published_date</th>\n",
       "      <th>title</th>\n",
       "      <th>text</th>\n",
       "      <th>url</th>\n",
       "      <th>medium</th>\n",
       "    </tr>\n",
       "  </thead>\n",
       "  <tbody>\n",
       "    <tr>\n",
       "      <th>0</th>\n",
       "      <td>2019/05/26</td>\n",
       "      <td>WATCH: Women part of Ramaphosa's inauguration</td>\n",
       "      <td>Major Mandisa Mfeka is South Africa's first bl...</td>\n",
       "      <td>http://www.enca.com/life/watch-women-part-rama...</td>\n",
       "      <td>eNCA Online</td>\n",
       "    </tr>\n",
       "    <tr>\n",
       "      <th>1</th>\n",
       "      <td>2019/08/20</td>\n",
       "      <td>Former SABC interim board members slam SIU rep...</td>\n",
       "      <td>Former SABC interim board members reacted with...</td>\n",
       "      <td>http://www.timeslive.co.za/news/south-africa/2...</td>\n",
       "      <td>The Times</td>\n",
       "    </tr>\n",
       "    <tr>\n",
       "      <th>2</th>\n",
       "      <td>2018/09/11</td>\n",
       "      <td>White media are the true state capture winners...</td>\n",
       "      <td>The spokesperson for political party Black Fir...</td>\n",
       "      <td>http://citizen.co.za/news/south-africa/2007534...</td>\n",
       "      <td>The Citizen</td>\n",
       "    </tr>\n",
       "    <tr>\n",
       "      <th>3</th>\n",
       "      <td>2020/01/08</td>\n",
       "      <td>Mkhwebane 'driven by reckless determination to...</td>\n",
       "      <td>Lawyers acting for President Cyril Ramaphosa i...</td>\n",
       "      <td>http://www.news24.com/SouthAfrica/News/mkhweba...</td>\n",
       "      <td>News24</td>\n",
       "    </tr>\n",
       "    <tr>\n",
       "      <th>4</th>\n",
       "      <td>2019/01/16</td>\n",
       "      <td>2 KZN cops charged with murder after shooting ...</td>\n",
       "      <td>Mxolisi Mngadi Handcuffs. (Duncan Alfreds, New...</td>\n",
       "      <td>http://www.news24.com/SouthAfrica/News/2-kzn-c...</td>\n",
       "      <td>News24</td>\n",
       "    </tr>\n",
       "  </tbody>\n",
       "</table>\n",
       "</div>"
      ],
      "text/plain": [
       "  published_date                                              title  \\\n",
       "0     2019/05/26      WATCH: Women part of Ramaphosa's inauguration   \n",
       "1     2019/08/20  Former SABC interim board members slam SIU rep...   \n",
       "2     2018/09/11  White media are the true state capture winners...   \n",
       "3     2020/01/08  Mkhwebane 'driven by reckless determination to...   \n",
       "4     2019/01/16  2 KZN cops charged with murder after shooting ...   \n",
       "\n",
       "                                                text  \\\n",
       "0  Major Mandisa Mfeka is South Africa's first bl...   \n",
       "1  Former SABC interim board members reacted with...   \n",
       "2  The spokesperson for political party Black Fir...   \n",
       "3  Lawyers acting for President Cyril Ramaphosa i...   \n",
       "4  Mxolisi Mngadi Handcuffs. (Duncan Alfreds, New...   \n",
       "\n",
       "                                                 url       medium  \n",
       "0  http://www.enca.com/life/watch-women-part-rama...  eNCA Online  \n",
       "1  http://www.timeslive.co.za/news/south-africa/2...    The Times  \n",
       "2  http://citizen.co.za/news/south-africa/2007534...  The Citizen  \n",
       "3  http://www.news24.com/SouthAfrica/News/mkhweba...       News24  \n",
       "4  http://www.news24.com/SouthAfrica/News/2-kzn-c...       News24  "
      ]
     },
     "execution_count": 3,
     "metadata": {},
     "output_type": "execute_result"
    }
   ],
   "source": [
    "real.head()"
   ]
  },
  {
   "cell_type": "code",
   "execution_count": 4,
   "metadata": {},
   "outputs": [
    {
     "data": {
      "text/html": [
       "<div>\n",
       "<style scoped>\n",
       "    .dataframe tbody tr th:only-of-type {\n",
       "        vertical-align: middle;\n",
       "    }\n",
       "\n",
       "    .dataframe tbody tr th {\n",
       "        vertical-align: top;\n",
       "    }\n",
       "\n",
       "    .dataframe thead th {\n",
       "        text-align: right;\n",
       "    }\n",
       "</style>\n",
       "<table border=\"1\" class=\"dataframe\">\n",
       "  <thead>\n",
       "    <tr style=\"text-align: right;\">\n",
       "      <th></th>\n",
       "      <th>published_date</th>\n",
       "      <th>title</th>\n",
       "      <th>text</th>\n",
       "      <th>url</th>\n",
       "      <th>medium</th>\n",
       "    </tr>\n",
       "  </thead>\n",
       "  <tbody>\n",
       "    <tr>\n",
       "      <th>0</th>\n",
       "      <td>JULY 9, 2020</td>\n",
       "      <td>Idols Viggy and Virginia bought their first ca...</td>\n",
       "      <td>Idols runners up Viggy and Virginia also known...</td>\n",
       "      <td>http://search67.com/2020/07/09/idols-viggy-and...</td>\n",
       "      <td>search67</td>\n",
       "    </tr>\n",
       "    <tr>\n",
       "      <th>1</th>\n",
       "      <td>JULY 9, 2020</td>\n",
       "      <td>#1millionGraves S.A government is preparing mo...</td>\n",
       "      <td>#1millionGraves The South African Government i...</td>\n",
       "      <td>http://search67.com/2020/07/09/1milliongraves-...</td>\n",
       "      <td>search67</td>\n",
       "    </tr>\n",
       "    <tr>\n",
       "      <th>2</th>\n",
       "      <td>JULY 9, 2020</td>\n",
       "      <td>Petition to get justice for Lebogang Masinga #...</td>\n",
       "      <td>We wish to get justice for Lebogang Masinga, a...</td>\n",
       "      <td>http://search67.com/2020/07/09/petition-to-get...</td>\n",
       "      <td>search67</td>\n",
       "    </tr>\n",
       "    <tr>\n",
       "      <th>3</th>\n",
       "      <td>JULY 7, 2020</td>\n",
       "      <td>North West Premier Job Mokgoro (72) tested pos...</td>\n",
       "      <td>North West Premier, Prof Tebogo Job Mokgoro, a...</td>\n",
       "      <td>http://search67.com/2020/07/07/north-west-prem...</td>\n",
       "      <td>search67</td>\n",
       "    </tr>\n",
       "    <tr>\n",
       "      <th>4</th>\n",
       "      <td>JULY 7, 2020</td>\n",
       "      <td>Primary and Secondary School learners to retur...</td>\n",
       "      <td>Learners in Kenya will return to school in 202...</td>\n",
       "      <td>http://search67.com/2020/07/07/primary-and-sec...</td>\n",
       "      <td>search67</td>\n",
       "    </tr>\n",
       "  </tbody>\n",
       "</table>\n",
       "</div>"
      ],
      "text/plain": [
       "  published_date                                              title  \\\n",
       "0   JULY 9, 2020  Idols Viggy and Virginia bought their first ca...   \n",
       "1   JULY 9, 2020  #1millionGraves S.A government is preparing mo...   \n",
       "2   JULY 9, 2020  Petition to get justice for Lebogang Masinga #...   \n",
       "3   JULY 7, 2020  North West Premier Job Mokgoro (72) tested pos...   \n",
       "4   JULY 7, 2020  Primary and Secondary School learners to retur...   \n",
       "\n",
       "                                                text  \\\n",
       "0  Idols runners up Viggy and Virginia also known...   \n",
       "1  #1millionGraves The South African Government i...   \n",
       "2  We wish to get justice for Lebogang Masinga, a...   \n",
       "3  North West Premier, Prof Tebogo Job Mokgoro, a...   \n",
       "4  Learners in Kenya will return to school in 202...   \n",
       "\n",
       "                                                 url    medium  \n",
       "0  http://search67.com/2020/07/09/idols-viggy-and...  search67  \n",
       "1  http://search67.com/2020/07/09/1milliongraves-...  search67  \n",
       "2  http://search67.com/2020/07/09/petition-to-get...  search67  \n",
       "3  http://search67.com/2020/07/07/north-west-prem...  search67  \n",
       "4  http://search67.com/2020/07/07/primary-and-sec...  search67  "
      ]
     },
     "execution_count": 4,
     "metadata": {},
     "output_type": "execute_result"
    }
   ],
   "source": [
    "fake.head()"
   ]
  },
  {
   "cell_type": "code",
   "execution_count": 5,
   "metadata": {},
   "outputs": [
    {
     "data": {
      "text/html": [
       "<div>\n",
       "<style scoped>\n",
       "    .dataframe tbody tr th:only-of-type {\n",
       "        vertical-align: middle;\n",
       "    }\n",
       "\n",
       "    .dataframe tbody tr th {\n",
       "        vertical-align: top;\n",
       "    }\n",
       "\n",
       "    .dataframe thead th {\n",
       "        text-align: right;\n",
       "    }\n",
       "</style>\n",
       "<table border=\"1\" class=\"dataframe\">\n",
       "  <thead>\n",
       "    <tr style=\"text-align: right;\">\n",
       "      <th></th>\n",
       "      <th>published_date</th>\n",
       "      <th>title</th>\n",
       "      <th>text</th>\n",
       "      <th>url</th>\n",
       "      <th>medium</th>\n",
       "    </tr>\n",
       "  </thead>\n",
       "  <tbody>\n",
       "    <tr>\n",
       "      <th>count</th>\n",
       "      <td>505</td>\n",
       "      <td>505</td>\n",
       "      <td>505</td>\n",
       "      <td>505</td>\n",
       "      <td>505</td>\n",
       "    </tr>\n",
       "    <tr>\n",
       "      <th>unique</th>\n",
       "      <td>267</td>\n",
       "      <td>494</td>\n",
       "      <td>497</td>\n",
       "      <td>494</td>\n",
       "      <td>5</td>\n",
       "    </tr>\n",
       "    <tr>\n",
       "      <th>top</th>\n",
       "      <td>August 29, 2019</td>\n",
       "      <td>Three Persons In critical conditions following...</td>\n",
       "      <td>POST 07/23 : REGISTRY CLERK National Prosecuti...</td>\n",
       "      <td>http://www.trendsdaily.co.za/metro-new/just-in...</td>\n",
       "      <td>mzanzi stories</td>\n",
       "    </tr>\n",
       "    <tr>\n",
       "      <th>freq</th>\n",
       "      <td>17</td>\n",
       "      <td>2</td>\n",
       "      <td>2</td>\n",
       "      <td>2</td>\n",
       "      <td>277</td>\n",
       "    </tr>\n",
       "  </tbody>\n",
       "</table>\n",
       "</div>"
      ],
      "text/plain": [
       "         published_date                                              title  \\\n",
       "count               505                                                505   \n",
       "unique              267                                                494   \n",
       "top     August 29, 2019  Three Persons In critical conditions following...   \n",
       "freq                 17                                                  2   \n",
       "\n",
       "                                                     text  \\\n",
       "count                                                 505   \n",
       "unique                                                497   \n",
       "top     POST 07/23 : REGISTRY CLERK National Prosecuti...   \n",
       "freq                                                    2   \n",
       "\n",
       "                                                      url          medium  \n",
       "count                                                 505             505  \n",
       "unique                                                494               5  \n",
       "top     http://www.trendsdaily.co.za/metro-new/just-in...  mzanzi stories  \n",
       "freq                                                    2             277  "
      ]
     },
     "execution_count": 5,
     "metadata": {},
     "output_type": "execute_result"
    }
   ],
   "source": [
    "fake.describe()"
   ]
  },
  {
   "cell_type": "markdown",
   "metadata": {},
   "source": [
    "## Combine Data"
   ]
  },
  {
   "cell_type": "code",
   "execution_count": 6,
   "metadata": {},
   "outputs": [],
   "source": [
    "real = real[0:505]"
   ]
  },
  {
   "cell_type": "code",
   "execution_count": 7,
   "metadata": {},
   "outputs": [
    {
     "data": {
      "text/html": [
       "<div>\n",
       "<style scoped>\n",
       "    .dataframe tbody tr th:only-of-type {\n",
       "        vertical-align: middle;\n",
       "    }\n",
       "\n",
       "    .dataframe tbody tr th {\n",
       "        vertical-align: top;\n",
       "    }\n",
       "\n",
       "    .dataframe thead th {\n",
       "        text-align: right;\n",
       "    }\n",
       "</style>\n",
       "<table border=\"1\" class=\"dataframe\">\n",
       "  <thead>\n",
       "    <tr style=\"text-align: right;\">\n",
       "      <th></th>\n",
       "      <th>published_date</th>\n",
       "      <th>title</th>\n",
       "      <th>text</th>\n",
       "      <th>url</th>\n",
       "      <th>medium</th>\n",
       "    </tr>\n",
       "  </thead>\n",
       "  <tbody>\n",
       "    <tr>\n",
       "      <th>count</th>\n",
       "      <td>505</td>\n",
       "      <td>505</td>\n",
       "      <td>505</td>\n",
       "      <td>505</td>\n",
       "      <td>505</td>\n",
       "    </tr>\n",
       "    <tr>\n",
       "      <th>unique</th>\n",
       "      <td>401</td>\n",
       "      <td>504</td>\n",
       "      <td>505</td>\n",
       "      <td>505</td>\n",
       "      <td>16</td>\n",
       "    </tr>\n",
       "    <tr>\n",
       "      <th>top</th>\n",
       "      <td>2017/04/06</td>\n",
       "      <td>WATCH</td>\n",
       "      <td>To many of his Facebook followers, Conty Lebep...</td>\n",
       "      <td>http://www.sowetanlive.co.za/business/2019-04-...</td>\n",
       "      <td>News24</td>\n",
       "    </tr>\n",
       "    <tr>\n",
       "      <th>freq</th>\n",
       "      <td>3</td>\n",
       "      <td>2</td>\n",
       "      <td>1</td>\n",
       "      <td>1</td>\n",
       "      <td>73</td>\n",
       "    </tr>\n",
       "  </tbody>\n",
       "</table>\n",
       "</div>"
      ],
      "text/plain": [
       "       published_date   title  \\\n",
       "count             505     505   \n",
       "unique            401     504   \n",
       "top        2017/04/06  WATCH    \n",
       "freq                3       2   \n",
       "\n",
       "                                                     text  \\\n",
       "count                                                 505   \n",
       "unique                                                505   \n",
       "top     To many of his Facebook followers, Conty Lebep...   \n",
       "freq                                                    1   \n",
       "\n",
       "                                                      url  medium  \n",
       "count                                                 505     505  \n",
       "unique                                                505      16  \n",
       "top     http://www.sowetanlive.co.za/business/2019-04-...  News24  \n",
       "freq                                                    1      73  "
      ]
     },
     "execution_count": 7,
     "metadata": {},
     "output_type": "execute_result"
    }
   ],
   "source": [
    "real.describe()"
   ]
  },
  {
   "cell_type": "code",
   "execution_count": 8,
   "metadata": {},
   "outputs": [],
   "source": [
    "# Add `real` column to `real` with value 1\n",
    "real['real'] = 1\n",
    "\n",
    "# Add `real` column to `fake` with value 0\n",
    "fake['real'] = 0\n",
    "\n",
    "# Append `fake` to `real`\n",
    "news = real.append(fake, ignore_index=True)"
   ]
  },
  {
   "cell_type": "code",
   "execution_count": 9,
   "metadata": {},
   "outputs": [
    {
     "data": {
      "text/html": [
       "<div>\n",
       "<style scoped>\n",
       "    .dataframe tbody tr th:only-of-type {\n",
       "        vertical-align: middle;\n",
       "    }\n",
       "\n",
       "    .dataframe tbody tr th {\n",
       "        vertical-align: top;\n",
       "    }\n",
       "\n",
       "    .dataframe thead th {\n",
       "        text-align: right;\n",
       "    }\n",
       "</style>\n",
       "<table border=\"1\" class=\"dataframe\">\n",
       "  <thead>\n",
       "    <tr style=\"text-align: right;\">\n",
       "      <th></th>\n",
       "      <th>published_date</th>\n",
       "      <th>title</th>\n",
       "      <th>text</th>\n",
       "      <th>url</th>\n",
       "      <th>medium</th>\n",
       "      <th>real</th>\n",
       "    </tr>\n",
       "  </thead>\n",
       "  <tbody>\n",
       "    <tr>\n",
       "      <th>305</th>\n",
       "      <td>2020/04/16</td>\n",
       "      <td>COVID-19 Frontline Workers: Private clinic own...</td>\n",
       "      <td>Tens of thousands of South African healthcare ...</td>\n",
       "      <td>http://www.sabcnews.com/sabcnews/covid-19-fron...</td>\n",
       "      <td>SABC Online News</td>\n",
       "      <td>1</td>\n",
       "    </tr>\n",
       "    <tr>\n",
       "      <th>300</th>\n",
       "      <td>2017/02/17</td>\n",
       "      <td>The Trumpian Gauleiters</td>\n",
       "      <td>Aside from all the other threats on the immedi...</td>\n",
       "      <td>http://www.dailymaverick.co.za/article/2017-02...</td>\n",
       "      <td>Daily Maverick</td>\n",
       "      <td>1</td>\n",
       "    </tr>\n",
       "    <tr>\n",
       "      <th>443</th>\n",
       "      <td>2018/03/15</td>\n",
       "      <td>We are still in business - Toys R Us South Afr...</td>\n",
       "      <td>CAPE TOWN - Toys R Us South Africa has confirm...</td>\n",
       "      <td>http://www.iol.co.za/business-report/companies...</td>\n",
       "      <td>IOL</td>\n",
       "      <td>1</td>\n",
       "    </tr>\n",
       "    <tr>\n",
       "      <th>900</th>\n",
       "      <td>2019/03/11</td>\n",
       "      <td>Video: Drunk Itumeleng Khune 'i want to swipe ...</td>\n",
       "      <td>Video: Bad friends film Itumeleng Khune 'i wan...</td>\n",
       "      <td>https://www.mzansistories.com/2019/03/video-dr...</td>\n",
       "      <td>mzanzi stories</td>\n",
       "      <td>0</td>\n",
       "    </tr>\n",
       "    <tr>\n",
       "      <th>79</th>\n",
       "      <td>2017/06/20</td>\n",
       "      <td>'Disrespected' Buthelezi lashes out after conf...</td>\n",
       "      <td>About 500 delegates who were set to attend a t...</td>\n",
       "      <td>http://city-press.news24.com/News/disrespected...</td>\n",
       "      <td>News24</td>\n",
       "      <td>1</td>\n",
       "    </tr>\n",
       "  </tbody>\n",
       "</table>\n",
       "</div>"
      ],
      "text/plain": [
       "    published_date                                              title  \\\n",
       "305     2020/04/16  COVID-19 Frontline Workers: Private clinic own...   \n",
       "300     2017/02/17                            The Trumpian Gauleiters   \n",
       "443     2018/03/15  We are still in business - Toys R Us South Afr...   \n",
       "900     2019/03/11  Video: Drunk Itumeleng Khune 'i want to swipe ...   \n",
       "79      2017/06/20  'Disrespected' Buthelezi lashes out after conf...   \n",
       "\n",
       "                                                  text  \\\n",
       "305  Tens of thousands of South African healthcare ...   \n",
       "300  Aside from all the other threats on the immedi...   \n",
       "443  CAPE TOWN - Toys R Us South Africa has confirm...   \n",
       "900  Video: Bad friends film Itumeleng Khune 'i wan...   \n",
       "79   About 500 delegates who were set to attend a t...   \n",
       "\n",
       "                                                   url            medium  real  \n",
       "305  http://www.sabcnews.com/sabcnews/covid-19-fron...  SABC Online News     1  \n",
       "300  http://www.dailymaverick.co.za/article/2017-02...    Daily Maverick     1  \n",
       "443  http://www.iol.co.za/business-report/companies...               IOL     1  \n",
       "900  https://www.mzansistories.com/2019/03/video-dr...    mzanzi stories     0  \n",
       "79   http://city-press.news24.com/News/disrespected...            News24     1  "
      ]
     },
     "execution_count": 9,
     "metadata": {},
     "output_type": "execute_result"
    }
   ],
   "source": [
    "news.sample(5)"
   ]
  },
  {
   "cell_type": "markdown",
   "metadata": {},
   "source": [
    "## Remove Stopwords"
   ]
  },
  {
   "cell_type": "code",
   "execution_count": 10,
   "metadata": {},
   "outputs": [],
   "source": [
    "# Import Stopwords\n",
    "stopwords = set(line.strip() for line in open('stopwords.txt'))\n",
    "\n",
    "#punctuation = [\".\", \",\", \":\", \"!\", \"*\", \"'s\", \"-\"]\n",
    "#punc = r'\\b(?:{})\\b'.format('|'.join(punctuation))\n",
    "punc = r'(\\'s)'\n",
    "regex = re.compile('[%s]' % re.escape(string.punctuation))"
   ]
  },
  {
   "cell_type": "code",
   "execution_count": 11,
   "metadata": {},
   "outputs": [],
   "source": [
    "news['text'] = news['text'].apply(lambda x: regex.sub('',' '.join([item for item in str(x).lower().replace(\"'s\", \"\").split() \n",
    "                                                                   if item not in stopwords])))"
   ]
  },
  {
   "cell_type": "code",
   "execution_count": 12,
   "metadata": {},
   "outputs": [
    {
     "data": {
      "text/html": [
       "<div>\n",
       "<style scoped>\n",
       "    .dataframe tbody tr th:only-of-type {\n",
       "        vertical-align: middle;\n",
       "    }\n",
       "\n",
       "    .dataframe tbody tr th {\n",
       "        vertical-align: top;\n",
       "    }\n",
       "\n",
       "    .dataframe thead th {\n",
       "        text-align: right;\n",
       "    }\n",
       "</style>\n",
       "<table border=\"1\" class=\"dataframe\">\n",
       "  <thead>\n",
       "    <tr style=\"text-align: right;\">\n",
       "      <th></th>\n",
       "      <th>published_date</th>\n",
       "      <th>title</th>\n",
       "      <th>text</th>\n",
       "      <th>url</th>\n",
       "      <th>medium</th>\n",
       "      <th>real</th>\n",
       "    </tr>\n",
       "  </thead>\n",
       "  <tbody>\n",
       "    <tr>\n",
       "      <th>675</th>\n",
       "      <td>August 30, 2019</td>\n",
       "      <td>Two Men Arrested In Connection With The Murder...</td>\n",
       "      <td>police arrested men aged 26 34 zakariyya park ...</td>\n",
       "      <td>http://www.trendsdaily.co.za/metro-new/two-men...</td>\n",
       "      <td>trendsdaily.co.za</td>\n",
       "      <td>0</td>\n",
       "    </tr>\n",
       "    <tr>\n",
       "      <th>883</th>\n",
       "      <td>2017/12/31</td>\n",
       "      <td>Robbie Malinga's Son looks like Letsholonyane ...</td>\n",
       "      <td>robbie malinga son looks reneilwe letsholonyan...</td>\n",
       "      <td>https://www.mzansistories.com/2017/12/robbie-m...</td>\n",
       "      <td>mzanzi stories</td>\n",
       "      <td>0</td>\n",
       "    </tr>\n",
       "    <tr>\n",
       "      <th>178</th>\n",
       "      <td>2017/12/13</td>\n",
       "      <td>David Byrne announces 'ambitious' new tour</td>\n",
       "      <td>york  rock icon david byrne planning tour ultr...</td>\n",
       "      <td>http://www.enca.com/life/entertainment/david-b...</td>\n",
       "      <td>eNCA Online</td>\n",
       "      <td>1</td>\n",
       "    </tr>\n",
       "    <tr>\n",
       "      <th>151</th>\n",
       "      <td>2017/11/29</td>\n",
       "      <td>CT blockchain start-up enables free banking in...</td>\n",
       "      <td>wala cape townbased blockchain startup gearing...</td>\n",
       "      <td>http://www.moneyweb.co.za/news/tech/ct-blockch...</td>\n",
       "      <td>Moneyweb</td>\n",
       "      <td>1</td>\n",
       "    </tr>\n",
       "    <tr>\n",
       "      <th>202</th>\n",
       "      <td>2019/10/07</td>\n",
       "      <td>OP-ED: Hands off Zondo - the commission is wor...</td>\n",
       "      <td>government particular ruling elite stop recycl...</td>\n",
       "      <td>http://www.dailymaverick.co.za/article/2019-10...</td>\n",
       "      <td>Daily Maverick</td>\n",
       "      <td>1</td>\n",
       "    </tr>\n",
       "  </tbody>\n",
       "</table>\n",
       "</div>"
      ],
      "text/plain": [
       "      published_date                                              title  \\\n",
       "675  August 30, 2019  Two Men Arrested In Connection With The Murder...   \n",
       "883       2017/12/31  Robbie Malinga's Son looks like Letsholonyane ...   \n",
       "178       2017/12/13         David Byrne announces 'ambitious' new tour   \n",
       "151       2017/11/29  CT blockchain start-up enables free banking in...   \n",
       "202       2019/10/07  OP-ED: Hands off Zondo - the commission is wor...   \n",
       "\n",
       "                                                  text  \\\n",
       "675  police arrested men aged 26 34 zakariyya park ...   \n",
       "883  robbie malinga son looks reneilwe letsholonyan...   \n",
       "178  york  rock icon david byrne planning tour ultr...   \n",
       "151  wala cape townbased blockchain startup gearing...   \n",
       "202  government particular ruling elite stop recycl...   \n",
       "\n",
       "                                                   url             medium  \\\n",
       "675  http://www.trendsdaily.co.za/metro-new/two-men...  trendsdaily.co.za   \n",
       "883  https://www.mzansistories.com/2017/12/robbie-m...     mzanzi stories   \n",
       "178  http://www.enca.com/life/entertainment/david-b...        eNCA Online   \n",
       "151  http://www.moneyweb.co.za/news/tech/ct-blockch...           Moneyweb   \n",
       "202  http://www.dailymaverick.co.za/article/2019-10...     Daily Maverick   \n",
       "\n",
       "     real  \n",
       "675     0  \n",
       "883     0  \n",
       "178     1  \n",
       "151     1  \n",
       "202     1  "
      ]
     },
     "execution_count": 12,
     "metadata": {},
     "output_type": "execute_result"
    }
   ],
   "source": [
    "news.sample(5)"
   ]
  },
  {
   "cell_type": "markdown",
   "metadata": {},
   "source": [
    "## Restructure Data"
   ]
  },
  {
   "cell_type": "code",
   "execution_count": 13,
   "metadata": {},
   "outputs": [],
   "source": [
    "news_text = news.drop(['published_date', 'title', 'url', 'medium'], axis=1)"
   ]
  },
  {
   "cell_type": "code",
   "execution_count": 14,
   "metadata": {},
   "outputs": [
    {
     "data": {
      "text/html": [
       "<div>\n",
       "<style scoped>\n",
       "    .dataframe tbody tr th:only-of-type {\n",
       "        vertical-align: middle;\n",
       "    }\n",
       "\n",
       "    .dataframe tbody tr th {\n",
       "        vertical-align: top;\n",
       "    }\n",
       "\n",
       "    .dataframe thead th {\n",
       "        text-align: right;\n",
       "    }\n",
       "</style>\n",
       "<table border=\"1\" class=\"dataframe\">\n",
       "  <thead>\n",
       "    <tr style=\"text-align: right;\">\n",
       "      <th></th>\n",
       "      <th>text</th>\n",
       "      <th>real</th>\n",
       "    </tr>\n",
       "  </thead>\n",
       "  <tbody>\n",
       "    <tr>\n",
       "      <th>101</th>\n",
       "      <td>report private investigators looking allegatio...</td>\n",
       "      <td>1</td>\n",
       "    </tr>\n",
       "    <tr>\n",
       "      <th>521</th>\n",
       "      <td>r350 unemployment grant application declined l...</td>\n",
       "      <td>0</td>\n",
       "    </tr>\n",
       "    <tr>\n",
       "      <th>332</th>\n",
       "      <td>australian immigration minister peter dutton a...</td>\n",
       "      <td>1</td>\n",
       "    </tr>\n",
       "    <tr>\n",
       "      <th>228</th>\n",
       "      <td>pressure rising global health officials debati...</td>\n",
       "      <td>1</td>\n",
       "    </tr>\n",
       "    <tr>\n",
       "      <th>79</th>\n",
       "      <td>500 delegates set attend threeday conference s...</td>\n",
       "      <td>1</td>\n",
       "    </tr>\n",
       "  </tbody>\n",
       "</table>\n",
       "</div>"
      ],
      "text/plain": [
       "                                                  text  real\n",
       "101  report private investigators looking allegatio...     1\n",
       "521  r350 unemployment grant application declined l...     0\n",
       "332  australian immigration minister peter dutton a...     1\n",
       "228  pressure rising global health officials debati...     1\n",
       "79   500 delegates set attend threeday conference s...     1"
      ]
     },
     "execution_count": 14,
     "metadata": {},
     "output_type": "execute_result"
    }
   ],
   "source": [
    "news_text.sample(5)"
   ]
  },
  {
   "cell_type": "code",
   "execution_count": 15,
   "metadata": {},
   "outputs": [],
   "source": [
    "classification = news_text.real"
   ]
  },
  {
   "cell_type": "code",
   "execution_count": 16,
   "metadata": {},
   "outputs": [],
   "source": [
    "news_text = news_text.drop(['real'], axis=1)"
   ]
  },
  {
   "cell_type": "markdown",
   "metadata": {},
   "source": [
    "## Load Google News Trained Word2Vec Model"
   ]
  },
  {
   "cell_type": "code",
   "execution_count": 17,
   "metadata": {},
   "outputs": [
    {
     "name": "stderr",
     "output_type": "stream",
     "text": [
      "Using TensorFlow backend.\n"
     ]
    }
   ],
   "source": [
    "from gensim.models import KeyedVectors, Word2Vec\n",
    "from keras.preprocessing.text import Tokenizer\n",
    "from keras.preprocessing.sequence import pad_sequences\n",
    "from keras.layers import Dense, Input, LSTM, Embedding, Dropout, Activation"
   ]
  },
  {
   "cell_type": "code",
   "execution_count": 18,
   "metadata": {},
   "outputs": [
    {
     "name": "stdout",
     "output_type": "stream",
     "text": [
      "Found 3000000 word vectors of word2vec\n"
     ]
    }
   ],
   "source": [
    "word2vec = KeyedVectors.load_word2vec_format('GoogleNews-vectors-negative300.bin', \\\n",
    "        binary=True)\n",
    "print('Found %s word vectors of word2vec' % len(word2vec.vocab))"
   ]
  },
  {
   "cell_type": "markdown",
   "metadata": {},
   "source": [
    "## Tokenize Words"
   ]
  },
  {
   "cell_type": "code",
   "execution_count": 19,
   "metadata": {},
   "outputs": [],
   "source": [
    "NUM_WORDS = 200000\n",
    "\n",
    "tokenizer = Tokenizer(num_words=NUM_WORDS)\n",
    "tokenizer.fit_on_texts(news_text['text'])"
   ]
  },
  {
   "cell_type": "code",
   "execution_count": 20,
   "metadata": {},
   "outputs": [
    {
     "name": "stdout",
     "output_type": "stream",
     "text": [
      "Found 26507 unique tokens.\n"
     ]
    }
   ],
   "source": [
    "word_index = tokenizer.word_index\n",
    "print('Found %s unique tokens.' % len(word_index))"
   ]
  },
  {
   "cell_type": "code",
   "execution_count": 21,
   "metadata": {},
   "outputs": [],
   "source": [
    "text = tokenizer.texts_to_sequences(news_text['text'])\n",
    "text = pad_sequences(text)"
   ]
  },
  {
   "cell_type": "code",
   "execution_count": null,
   "metadata": {},
   "outputs": [],
   "source": [
    "h_d = []\n",
    "for i in news_text['text']:\n",
    "    h_d.append(i.split())\n",
    "print(h_d[:2])"
   ]
  },
  {
   "cell_type": "markdown",
   "metadata": {},
   "source": [
    "## Train-Test Split"
   ]
  },
  {
   "cell_type": "code",
   "execution_count": 22,
   "metadata": {},
   "outputs": [],
   "source": [
    "from sklearn.model_selection import train_test_split\n",
    "X_train, X_test, y_train, y_test = train_test_split(text, classification, test_size=0.2, stratify=classification)"
   ]
  },
  {
   "cell_type": "code",
   "execution_count": 23,
   "metadata": {},
   "outputs": [
    {
     "data": {
      "text/plain": [
       "array([[    0,     0,     0, ...,  1949,   346,   852],\n",
       "       [    0,     0,     0, ...,  7560,  6499,  6748],\n",
       "       [    0,     0,     0, ...,  3093,   572,   233],\n",
       "       ...,\n",
       "       [    0,     0,     0, ...,    32,   390,  2049],\n",
       "       [    0,     0,     0, ...,   290,   808,   402],\n",
       "       [    0,     0,     0, ...,   366,   141, 23570]])"
      ]
     },
     "execution_count": 23,
     "metadata": {},
     "output_type": "execute_result"
    }
   ],
   "source": [
    "X_train"
   ]
  },
  {
   "cell_type": "code",
   "execution_count": 24,
   "metadata": {},
   "outputs": [
    {
     "data": {
      "text/plain": [
       "(808, 3168)"
      ]
     },
     "execution_count": 24,
     "metadata": {},
     "output_type": "execute_result"
    }
   ],
   "source": [
    "X_train.shape"
   ]
  },
  {
   "cell_type": "markdown",
   "metadata": {},
   "source": [
    "## Embed Words"
   ]
  },
  {
   "cell_type": "code",
   "execution_count": 25,
   "metadata": {},
   "outputs": [],
   "source": [
    "EMBEDDING_DIM=300\n",
    "vocabulary_size=min(len(word_index)+1,NUM_WORDS)\n",
    "embedding_matrix = np.zeros((vocabulary_size, EMBEDDING_DIM))\n",
    "for word, i in word_index.items():\n",
    "    if i>=NUM_WORDS:\n",
    "        continue\n",
    "    try:\n",
    "        embedding_vector = word2vec[word]\n",
    "        embedding_matrix[i] = embedding_vector\n",
    "    except KeyError:\n",
    "        embedding_matrix[i]=np.random.normal(0,np.sqrt(0.25),EMBEDDING_DIM)\n",
    "\n",
    "del(word2vec)"
   ]
  },
  {
   "cell_type": "code",
   "execution_count": 26,
   "metadata": {},
   "outputs": [
    {
     "data": {
      "text/plain": [
       "(26508, 300)"
      ]
     },
     "execution_count": 26,
     "metadata": {},
     "output_type": "execute_result"
    }
   ],
   "source": [
    "embedding_matrix.shape"
   ]
  },
  {
   "cell_type": "code",
   "execution_count": 27,
   "metadata": {},
   "outputs": [
    {
     "data": {
      "text/plain": [
       "array([[ 0.        ,  0.        ,  0.        , ...,  0.        ,\n",
       "         0.        ,  0.        ],\n",
       "       [ 0.26367188, -0.01916504,  0.02893066, ..., -0.06689453,\n",
       "         0.20703125, -0.13867188],\n",
       "       [-0.02478027, -0.10986328,  0.06591797, ...,  0.0402832 ,\n",
       "         0.48632812, -0.26757812],\n",
       "       ...,\n",
       "       [-0.15937707,  0.05549108, -0.474475  , ...,  0.7437565 ,\n",
       "         0.52394842, -0.29630136],\n",
       "       [-0.1935058 ,  0.18109067,  1.00156616, ...,  1.15384252,\n",
       "        -0.43089966,  0.32161463],\n",
       "       [ 0.13574219,  0.22558594, -0.51953125, ...,  0.08837891,\n",
       "         0.05004883, -0.10498047]])"
      ]
     },
     "execution_count": 27,
     "metadata": {},
     "output_type": "execute_result"
    }
   ],
   "source": [
    "embedding_matrix"
   ]
  },
  {
   "cell_type": "markdown",
   "metadata": {},
   "source": [
    "## LSTM Model"
   ]
  },
  {
   "cell_type": "code",
   "execution_count": 28,
   "metadata": {},
   "outputs": [],
   "source": [
    "from tensorflow.keras.models import Sequential\n",
    "from tensorflow.keras.layers import LSTM, MaxPool1D, Dropout, Dense, GlobalMaxPooling1D, Embedding, Activation, Flatten"
   ]
  },
  {
   "cell_type": "code",
   "execution_count": 26,
   "metadata": {},
   "outputs": [
    {
     "name": "stdout",
     "output_type": "stream",
     "text": [
      "Word2Vec(vocab=26507, size=50, alpha=0.025)\n"
     ]
    }
   ],
   "source": [
    "#w2vc_model = Word2Vec(h_d, size=50, workers=8, min_count=1, window=3)\n",
    "#print(w2vc_model)"
   ]
  },
  {
   "cell_type": "code",
   "execution_count": 38,
   "metadata": {},
   "outputs": [],
   "source": [
    "X_train_2 = np.reshape(X_train, (X_train.shape[0], X_train.shape[1], 1))\n",
    "X_test_2 = np.reshape(X_test, (X_test.shape[0], X_test.shape[1], 1))"
   ]
  },
  {
   "cell_type": "code",
   "execution_count": 39,
   "metadata": {},
   "outputs": [
    {
     "data": {
      "text/plain": [
       "(808, 3168, 1)"
      ]
     },
     "execution_count": 39,
     "metadata": {},
     "output_type": "execute_result"
    }
   ],
   "source": [
    "X_train_2.shape"
   ]
  },
  {
   "cell_type": "code",
   "execution_count": 55,
   "metadata": {
    "scrolled": true
   },
   "outputs": [
    {
     "name": "stdout",
     "output_type": "stream",
     "text": [
      "WARNING:tensorflow:Layer lstm_9 will not use cuDNN kernel since it doesn't meet the cuDNN kernel criteria. It will use generic GPU kernel as fallback when running on GPU\n"
     ]
    }
   ],
   "source": [
    "# build the model\n",
    "model = Sequential()\n",
    "#model.add(Embedding(input_dim = vocabulary_size, output_dim = 120))\n",
    "#model.add(Dropout(0.2))\n",
    "#model.add(LSTM(120, return_sequences=True))\n",
    "#model.add(GlobalMaxPooling1D())\n",
    "#model.add(Dropout(0.2))\n",
    "#model.add(Dense(1))\n",
    "#model.add(Activation('sigmoid'))\n",
    "#model.summary()\n",
    "\n",
    "# Input layer\n",
    "model.add(Embedding(input_dim = vocabulary_size, output_dim = 128))\n",
    "\n",
    "# Hidden layers\n",
    "model.add(LSTM(128, dropout=0.2, recurrent_dropout=0.2)) #return_sequences=True,\n",
    "#model.add(LSTM(128, dropout=0.2, recurrent_dropout=0.2))\n",
    "\n",
    "#model.add(Flatten())\n",
    "\n",
    "#model.add(GlobalMaxPooling1D())\n",
    "\n",
    "model.add(Dense(1024, activation='relu'))\n",
    "model.add(Dense(512, activation='relu'))\n",
    "model.add(Dense(32, activation='relu'))\n",
    "\n",
    "# Output Layer\n",
    "model.add(Dense(1))"
   ]
  },
  {
   "cell_type": "code",
   "execution_count": 56,
   "metadata": {},
   "outputs": [
    {
     "name": "stdout",
     "output_type": "stream",
     "text": [
      "Epoch 1/12\n",
      "202/202 [==============================] - 820s 4s/step - loss: 0.6509 - accuracy: 0.6634 - val_loss: 0.5677 - val_accuracy: 0.7327\n",
      "Epoch 2/12\n",
      "202/202 [==============================] - 760s 4s/step - loss: 0.3096 - accuracy: 0.9542 - val_loss: 2.4616 - val_accuracy: 0.7426\n",
      "Epoch 3/12\n",
      "202/202 [==============================] - 723s 4s/step - loss: 0.2014 - accuracy: 0.9678 - val_loss: 2.6221 - val_accuracy: 0.7475\n",
      "Epoch 4/12\n",
      "202/202 [==============================] - 729s 4s/step - loss: 0.1889 - accuracy: 0.9728 - val_loss: 2.6098 - val_accuracy: 0.6782\n",
      "Epoch 5/12\n",
      "202/202 [==============================] - 733s 4s/step - loss: 3.2329 - accuracy: 0.7859 - val_loss: 7.7125 - val_accuracy: 0.5000\n",
      "Epoch 6/12\n",
      "202/202 [==============================] - 736s 4s/step - loss: 7.6934 - accuracy: 0.5012 - val_loss: 7.7125 - val_accuracy: 0.5000\n",
      "Epoch 7/12\n",
      "202/202 [==============================] - 750s 4s/step - loss: 7.6934 - accuracy: 0.5012 - val_loss: 7.7125 - val_accuracy: 0.5000\n",
      "Epoch 8/12\n",
      "202/202 [==============================] - 752s 4s/step - loss: 7.6934 - accuracy: 0.5012 - val_loss: 7.7125 - val_accuracy: 0.5000\n",
      "Epoch 9/12\n",
      "202/202 [==============================] - 864s 4s/step - loss: 7.6934 - accuracy: 0.5012 - val_loss: 7.7125 - val_accuracy: 0.5000\n",
      "Epoch 10/12\n",
      "202/202 [==============================] - 728s 4s/step - loss: 7.6934 - accuracy: 0.5012 - val_loss: 7.7125 - val_accuracy: 0.5000\n",
      "Epoch 11/12\n",
      "202/202 [==============================] - 725s 4s/step - loss: 7.6934 - accuracy: 0.5012 - val_loss: 7.7125 - val_accuracy: 0.5000\n",
      "Epoch 12/12\n",
      "202/202 [==============================] - 697s 3s/step - loss: 7.6934 - accuracy: 0.5012 - val_loss: 7.7125 - val_accuracy: 0.5000\n"
     ]
    }
   ],
   "source": [
    "# compile and train model\n",
    "\n",
    "model.compile(loss='binary_crossentropy', optimizer='adam', metrics=['accuracy'])\n",
    "history = model.fit(X_train_2, y_train, batch_size=4, validation_data=(X_test_2, y_test), epochs=12)"
   ]
  },
  {
   "cell_type": "code",
   "execution_count": 1,
   "metadata": {},
   "outputs": [
    {
     "name": "stdout",
     "output_type": "stream",
     "text": [
      "2.3.0\n"
     ]
    }
   ],
   "source": [
    "import tensorflow as tf\n",
    "print(tf.__version__)"
   ]
  },
  {
   "cell_type": "code",
   "execution_count": 32,
   "metadata": {},
   "outputs": [],
   "source": [
    "# Check tensorflow version\n",
    "#if float(tf.__version__[0]) < 2.3:\n",
    "#  print('Updating tensorflow')\n",
    "#  !pip install tensorflow==2.3\n",
    "#else:\n",
    "#  print('Correct version of Tensorflow installed.')"
   ]
  },
  {
   "cell_type": "code",
   "execution_count": 58,
   "metadata": {},
   "outputs": [
    {
     "data": {
      "image/png": "[encoded data removed]",
      "text/plain": [
       "<Figure size 432x288 with 1 Axes>"
      ]
     },
     "metadata": {
      "needs_background": "light"
     },
     "output_type": "display_data"
    },
    {
     "data": {
      "image/png": "[encoded data removed]",
      "text/plain": [
       "<Figure size 432x288 with 1 Axes>"
      ]
     },
     "metadata": {
      "needs_background": "light"
     },
     "output_type": "display_data"
    }
   ],
   "source": [
    "# Visualize the results:\n",
    "import matplotlib.image  as mpimg\n",
    "import matplotlib.pyplot as plt\n",
    "\n",
    "plt.plot(history.history['accuracy'])\n",
    "plt.plot(history.history['val_accuracy'])\n",
    "plt.title('Model accuracy')\n",
    "plt.ylabel('Accuracy')\n",
    "plt.xlabel('Epoch')\n",
    "plt.legend(['Train', 'Test'], loc='upper left')\n",
    "plt.show()\n",
    "\n",
    "plt.plot(history.history['loss'])\n",
    "plt.plot(history.history['val_loss'])\n",
    "plt.title('Model loss')\n",
    "plt.ylabel('Loss')\n",
    "plt.xlabel('Epoch')\n",
    "plt.legend(['Train', 'Test'], loc='upper right')\n",
    "plt.show()"
   ]
  },
  {
   "cell_type": "code",
   "execution_count": null,
   "metadata": {},
   "outputs": [],
   "source": []
  }
 ],
 "metadata": {
  "kernelspec": {
   "display_name": "Python 3",
   "language": "python",
   "name": "python3"
  },
  "language_info": {
   "codemirror_mode": {
    "name": "ipython",
    "version": 3
   },
   "file_extension": ".py",
   "mimetype": "text/x-python",
   "name": "python",
   "nbconvert_exporter": "python",
   "pygments_lexer": "ipython3",
   "version": "3.7.4"
  }
 },
 "nbformat": 4,
 "nbformat_minor": 4
}
